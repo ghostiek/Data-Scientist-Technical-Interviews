{
 "cells": [
  {
   "cell_type": "code",
   "execution_count": 1,
   "metadata": {},
   "outputs": [],
   "source": [
    "import pandas as pd\n",
    "import matplotlib.pyplot as plt\n",
    "from scipy.stats.distributions import beta, norm\n",
    "import numpy as np"
   ]
  },
  {
   "cell_type": "markdown",
   "metadata": {},
   "source": [
    "## Lire les données et créer les colonnes nécessaires"
   ]
  },
  {
   "cell_type": "code",
   "execution_count": 2,
   "metadata": {},
   "outputs": [
    {
     "data": {
      "text/html": [
       "<div>\n",
       "<style scoped>\n",
       "    .dataframe tbody tr th:only-of-type {\n",
       "        vertical-align: middle;\n",
       "    }\n",
       "\n",
       "    .dataframe tbody tr th {\n",
       "        vertical-align: top;\n",
       "    }\n",
       "\n",
       "    .dataframe thead th {\n",
       "        text-align: right;\n",
       "    }\n",
       "</style>\n",
       "<table border=\"1\" class=\"dataframe\">\n",
       "  <thead>\n",
       "    <tr style=\"text-align: right;\">\n",
       "      <th></th>\n",
       "      <th>shopping_center_id</th>\n",
       "      <th>device_local_date</th>\n",
       "      <th>device_hash_id</th>\n",
       "      <th>device_local_time</th>\n",
       "      <th>day_of_week</th>\n",
       "      <th>total_seconds</th>\n",
       "      <th>hours</th>\n",
       "      <th>scaled_time</th>\n",
       "    </tr>\n",
       "  </thead>\n",
       "  <tbody>\n",
       "    <tr>\n",
       "      <th>0</th>\n",
       "      <td>b43e9e4f-acd1-4941-874d-e0c5650ab91e</td>\n",
       "      <td>2019-09-14 10:00:25</td>\n",
       "      <td>6fdffac307</td>\n",
       "      <td>1900-01-01 10:00:25</td>\n",
       "      <td>Saturday</td>\n",
       "      <td>36025</td>\n",
       "      <td>10.006944</td>\n",
       "      <td>0.416956</td>\n",
       "    </tr>\n",
       "    <tr>\n",
       "      <th>1</th>\n",
       "      <td>b43e9e4f-acd1-4941-874d-e0c5650ab91e</td>\n",
       "      <td>2019-09-14 17:13:15</td>\n",
       "      <td>386141ebd8</td>\n",
       "      <td>1900-01-01 17:13:15</td>\n",
       "      <td>Saturday</td>\n",
       "      <td>61995</td>\n",
       "      <td>17.220833</td>\n",
       "      <td>0.717535</td>\n",
       "    </tr>\n",
       "    <tr>\n",
       "      <th>2</th>\n",
       "      <td>b43e9e4f-acd1-4941-874d-e0c5650ab91e</td>\n",
       "      <td>2019-09-14 09:07:06</td>\n",
       "      <td>b06242b848</td>\n",
       "      <td>1900-01-01 09:07:06</td>\n",
       "      <td>Saturday</td>\n",
       "      <td>32826</td>\n",
       "      <td>9.118333</td>\n",
       "      <td>0.379931</td>\n",
       "    </tr>\n",
       "    <tr>\n",
       "      <th>3</th>\n",
       "      <td>b43e9e4f-acd1-4941-874d-e0c5650ab91e</td>\n",
       "      <td>2019-09-14 17:14:49</td>\n",
       "      <td>c13cc52e82</td>\n",
       "      <td>1900-01-01 17:14:49</td>\n",
       "      <td>Saturday</td>\n",
       "      <td>62089</td>\n",
       "      <td>17.246944</td>\n",
       "      <td>0.718623</td>\n",
       "    </tr>\n",
       "    <tr>\n",
       "      <th>4</th>\n",
       "      <td>599cb959-11ef-49aa-9eb3-e6c17b4ea6ba</td>\n",
       "      <td>2019-09-14 10:17:35</td>\n",
       "      <td>f339ddf999</td>\n",
       "      <td>1900-01-01 10:17:35</td>\n",
       "      <td>Saturday</td>\n",
       "      <td>37055</td>\n",
       "      <td>10.293056</td>\n",
       "      <td>0.428877</td>\n",
       "    </tr>\n",
       "  </tbody>\n",
       "</table>\n",
       "</div>"
      ],
      "text/plain": [
       "                     shopping_center_id   device_local_date device_hash_id  \\\n",
       "0  b43e9e4f-acd1-4941-874d-e0c5650ab91e 2019-09-14 10:00:25     6fdffac307   \n",
       "1  b43e9e4f-acd1-4941-874d-e0c5650ab91e 2019-09-14 17:13:15     386141ebd8   \n",
       "2  b43e9e4f-acd1-4941-874d-e0c5650ab91e 2019-09-14 09:07:06     b06242b848   \n",
       "3  b43e9e4f-acd1-4941-874d-e0c5650ab91e 2019-09-14 17:14:49     c13cc52e82   \n",
       "4  599cb959-11ef-49aa-9eb3-e6c17b4ea6ba 2019-09-14 10:17:35     f339ddf999   \n",
       "\n",
       "    device_local_time day_of_week  total_seconds      hours  scaled_time  \n",
       "0 1900-01-01 10:00:25    Saturday          36025  10.006944     0.416956  \n",
       "1 1900-01-01 17:13:15    Saturday          61995  17.220833     0.717535  \n",
       "2 1900-01-01 09:07:06    Saturday          32826   9.118333     0.379931  \n",
       "3 1900-01-01 17:14:49    Saturday          62089  17.246944     0.718623  \n",
       "4 1900-01-01 10:17:35    Saturday          37055  10.293056     0.428877  "
      ]
     },
     "execution_count": 2,
     "metadata": {},
     "output_type": "execute_result"
    }
   ],
   "source": [
    "path = \"at_home_test_data_study_centers_201909.csv\"\n",
    "df = pd.read_csv(path)\n",
    "df[\"device_local_date\"] = pd.to_datetime(df[\"device_local_date\"], format=\"%Y-%m-%d %H:%M:%S\")\n",
    "\n",
    "df[\"device_local_time\"] = df[\"device_local_date\"].dt.time\n",
    "df[\"device_local_time\"] = pd.to_datetime(df[\"device_local_time\"], format=\"%H:%M:%S\")\n",
    "df[\"day_of_week\"] =  df[\"device_local_date\"].dt.day_name().astype(\"category\")\n",
    "df[\"day_of_week\"] = df[\"day_of_week\"].cat.reorder_categories([\"Monday\", \"Tuesday\", \"Wednesday\", \"Thursday\", \"Friday\", \"Saturday\", \"Sunday\"])\n",
    "\n",
    "# Create total elapsed time in various formats\n",
    "df[\"total_seconds\"] = df[\"device_local_date\"].dt.hour * 3600 + df[\"device_local_date\"].dt.minute * 60 + df[\"device_local_date\"].dt.second\n",
    "df[\"hours\"] = df[\"total_seconds\"]/(3600)\n",
    "df[\"scaled_time\"] = df[\"hours\"]/(24)\n",
    "df.head()"
   ]
  },
  {
   "cell_type": "code",
   "execution_count": 3,
   "metadata": {},
   "outputs": [
    {
     "data": {
      "text/plain": [
       "shopping_center_id            object\n",
       "device_local_date     datetime64[ns]\n",
       "device_hash_id                object\n",
       "device_local_time     datetime64[ns]\n",
       "day_of_week                 category\n",
       "total_seconds                  int64\n",
       "hours                        float64\n",
       "scaled_time                  float64\n",
       "dtype: object"
      ]
     },
     "execution_count": 3,
     "metadata": {},
     "output_type": "execute_result"
    }
   ],
   "source": [
    "df.dtypes"
   ]
  },
  {
   "cell_type": "markdown",
   "metadata": {},
   "source": [
    "## Analyse\n",
    "Vérifier quelles sont les premières entrées chaque jour, pour chaque magasin, mais puisque les magasins restent ouverts après minuit on va devoir utiliser une solution plus robuste."
   ]
  },
  {
   "cell_type": "code",
   "execution_count": 4,
   "metadata": {
    "scrolled": true
   },
   "outputs": [
    {
     "data": {
      "text/plain": [
       "shopping_center_id                    day_of_week\n",
       "0cd35523-1eca-4f09-ab0d-0b506ae9d986  Monday        1900-01-01 04:00:25\n",
       "                                      Tuesday       1900-01-01 04:32:53\n",
       "                                      Wednesday     1900-01-01 04:59:42\n",
       "                                      Thursday      1900-01-01 02:05:12\n",
       "                                      Friday        1900-01-01 04:59:22\n",
       "                                      Saturday      1900-01-01 05:00:40\n",
       "                                      Sunday        1900-01-01 07:28:36\n",
       "599cb959-11ef-49aa-9eb3-e6c17b4ea6ba  Monday        1900-01-01 00:07:22\n",
       "                                      Tuesday       1900-01-01 00:09:34\n",
       "                                      Wednesday     1900-01-01 00:14:39\n",
       "                                      Thursday      1900-01-01 00:21:01\n",
       "                                      Friday        1900-01-01 00:02:10\n",
       "                                      Saturday      1900-01-01 00:01:20\n",
       "                                      Sunday        1900-01-01 00:00:56\n",
       "b43e9e4f-acd1-4941-874d-e0c5650ab91e  Monday        1900-01-01 00:43:17\n",
       "                                      Tuesday       1900-01-01 00:14:55\n",
       "                                      Wednesday     1900-01-01 00:06:13\n",
       "                                      Thursday      1900-01-01 03:05:24\n",
       "                                      Friday        1900-01-01 00:14:37\n",
       "                                      Saturday      1900-01-01 00:07:38\n",
       "                                      Sunday        1900-01-01 00:07:46\n",
       "cb2d5bb6-c372-4a51-8231-4ffa288a0c28  Monday        1900-01-01 06:04:30\n",
       "                                      Tuesday       1900-01-01 03:45:20\n",
       "                                      Wednesday     1900-01-01 05:25:27\n",
       "                                      Thursday      1900-01-01 00:37:53\n",
       "                                      Friday        1900-01-01 00:02:44\n",
       "                                      Saturday      1900-01-01 00:04:10\n",
       "                                      Sunday        1900-01-01 00:10:11\n",
       "Name: device_local_time, dtype: datetime64[ns]"
      ]
     },
     "execution_count": 4,
     "metadata": {},
     "output_type": "execute_result"
    }
   ],
   "source": [
    "df.groupby([\"shopping_center_id\", \"day_of_week\"])[\"device_local_time\"].min()"
   ]
  },
  {
   "cell_type": "code",
   "execution_count": 5,
   "metadata": {},
   "outputs": [
    {
     "data": {
      "image/png": "[encoded data removed]",
      "text/plain": [
       "<Figure size 432x288 with 9 Axes>"
      ]
     },
     "metadata": {
      "needs_background": "light"
     },
     "output_type": "display_data"
    }
   ],
   "source": [
    "df[\"hours\"].hist(by=df[\"day_of_week\"], bins=24)\n",
    "plt.tight_layout()"
   ]
  },
  {
   "cell_type": "markdown",
   "metadata": {},
   "source": [
    "## Solution proposée\n",
    "\n",
    "Si on arrive à compter chaque intervalle entre deux clients, normalement le premier client de la journée va être celui qui va briser le plus long intervalle sans clients"
   ]
  },
  {
   "cell_type": "code",
   "execution_count": 6,
   "metadata": {},
   "outputs": [
    {
     "data": {
      "text/html": [
       "<div>\n",
       "<style scoped>\n",
       "    .dataframe tbody tr th:only-of-type {\n",
       "        vertical-align: middle;\n",
       "    }\n",
       "\n",
       "    .dataframe tbody tr th {\n",
       "        vertical-align: top;\n",
       "    }\n",
       "\n",
       "    .dataframe thead th {\n",
       "        text-align: right;\n",
       "    }\n",
       "</style>\n",
       "<table border=\"1\" class=\"dataframe\">\n",
       "  <thead>\n",
       "    <tr style=\"text-align: right;\">\n",
       "      <th></th>\n",
       "      <th>shopping_center_id</th>\n",
       "      <th>device_local_date</th>\n",
       "      <th>device_hash_id</th>\n",
       "      <th>device_local_time</th>\n",
       "      <th>day_of_week</th>\n",
       "      <th>total_seconds</th>\n",
       "      <th>hours</th>\n",
       "      <th>scaled_time</th>\n",
       "      <th>delta</th>\n",
       "    </tr>\n",
       "  </thead>\n",
       "  <tbody>\n",
       "    <tr>\n",
       "      <th>0</th>\n",
       "      <td>b43e9e4f-acd1-4941-874d-e0c5650ab91e</td>\n",
       "      <td>2019-09-01 23:13:48</td>\n",
       "      <td>37839f15ed</td>\n",
       "      <td>1900-01-01 23:13:48</td>\n",
       "      <td>Sunday</td>\n",
       "      <td>83628</td>\n",
       "      <td>23.230000</td>\n",
       "      <td>0.967917</td>\n",
       "      <td>0 days 01:55:53</td>\n",
       "    </tr>\n",
       "    <tr>\n",
       "      <th>1</th>\n",
       "      <td>b43e9e4f-acd1-4941-874d-e0c5650ab91e</td>\n",
       "      <td>2019-09-02 03:58:14</td>\n",
       "      <td>a1cb49c576</td>\n",
       "      <td>1900-01-01 03:58:14</td>\n",
       "      <td>Monday</td>\n",
       "      <td>14294</td>\n",
       "      <td>3.970556</td>\n",
       "      <td>0.165440</td>\n",
       "      <td>0 days 04:44:26</td>\n",
       "    </tr>\n",
       "    <tr>\n",
       "      <th>2</th>\n",
       "      <td>b43e9e4f-acd1-4941-874d-e0c5650ab91e</td>\n",
       "      <td>2019-09-03 03:32:23</td>\n",
       "      <td>a1cb49c576</td>\n",
       "      <td>1900-01-01 03:32:23</td>\n",
       "      <td>Tuesday</td>\n",
       "      <td>12743</td>\n",
       "      <td>3.539722</td>\n",
       "      <td>0.147488</td>\n",
       "      <td>0 days 04:47:34</td>\n",
       "    </tr>\n",
       "    <tr>\n",
       "      <th>3</th>\n",
       "      <td>b43e9e4f-acd1-4941-874d-e0c5650ab91e</td>\n",
       "      <td>2019-09-04 04:15:56</td>\n",
       "      <td>59b9242911</td>\n",
       "      <td>1900-01-01 04:15:56</td>\n",
       "      <td>Wednesday</td>\n",
       "      <td>15356</td>\n",
       "      <td>4.265556</td>\n",
       "      <td>0.177731</td>\n",
       "      <td>0 days 04:09:43</td>\n",
       "    </tr>\n",
       "    <tr>\n",
       "      <th>4</th>\n",
       "      <td>b43e9e4f-acd1-4941-874d-e0c5650ab91e</td>\n",
       "      <td>2019-09-05 05:12:42</td>\n",
       "      <td>59b9242911</td>\n",
       "      <td>1900-01-01 05:12:42</td>\n",
       "      <td>Thursday</td>\n",
       "      <td>18762</td>\n",
       "      <td>5.211667</td>\n",
       "      <td>0.217153</td>\n",
       "      <td>0 days 07:07:44</td>\n",
       "    </tr>\n",
       "  </tbody>\n",
       "</table>\n",
       "</div>"
      ],
      "text/plain": [
       "                     shopping_center_id   device_local_date device_hash_id  \\\n",
       "0  b43e9e4f-acd1-4941-874d-e0c5650ab91e 2019-09-01 23:13:48     37839f15ed   \n",
       "1  b43e9e4f-acd1-4941-874d-e0c5650ab91e 2019-09-02 03:58:14     a1cb49c576   \n",
       "2  b43e9e4f-acd1-4941-874d-e0c5650ab91e 2019-09-03 03:32:23     a1cb49c576   \n",
       "3  b43e9e4f-acd1-4941-874d-e0c5650ab91e 2019-09-04 04:15:56     59b9242911   \n",
       "4  b43e9e4f-acd1-4941-874d-e0c5650ab91e 2019-09-05 05:12:42     59b9242911   \n",
       "\n",
       "    device_local_time day_of_week  total_seconds      hours  scaled_time  \\\n",
       "0 1900-01-01 23:13:48      Sunday          83628  23.230000     0.967917   \n",
       "1 1900-01-01 03:58:14      Monday          14294   3.970556     0.165440   \n",
       "2 1900-01-01 03:32:23     Tuesday          12743   3.539722     0.147488   \n",
       "3 1900-01-01 04:15:56   Wednesday          15356   4.265556     0.177731   \n",
       "4 1900-01-01 05:12:42    Thursday          18762   5.211667     0.217153   \n",
       "\n",
       "            delta  \n",
       "0 0 days 01:55:53  \n",
       "1 0 days 04:44:26  \n",
       "2 0 days 04:47:34  \n",
       "3 0 days 04:09:43  \n",
       "4 0 days 07:07:44  "
      ]
     },
     "execution_count": 6,
     "metadata": {},
     "output_type": "execute_result"
    }
   ],
   "source": [
    "final_df  = pd.DataFrame()\n",
    "for i in df[\"shopping_center_id\"].unique():\n",
    "    # Filter by store\n",
    "    shop_i = df[df[\"shopping_center_id\"] == i]\n",
    "    # Sort values\n",
    "    shop_i = shop_i.sort_values(\"device_local_date\", ascending = True)\n",
    "    # Get time diff\n",
    "    shop_i['delta'] = (shop_i['device_local_date']-shop_i['device_local_date'].shift()).fillna(pd.Timedelta('0 days'))\n",
    "    # Get group\n",
    "    day_group = shop_i[\"device_local_date\"].dt.floor(\"d\")\n",
    "    for j in day_group.unique():\n",
    "        shop_i_day = shop_i[shop_i[\"device_local_date\"].dt.floor(\"d\")==j]\n",
    "        \n",
    "        # Get max row\n",
    "        max_row = shop_i_day.loc[shop_i_day[\"delta\"]==shop_i_day[\"delta\"].max(),:]\n",
    "        \n",
    "        # Append the row\n",
    "        final_df = pd.concat([final_df, max_row], ignore_index=True, sort=False)\n",
    "\n",
    "\n",
    "final_df.head()"
   ]
  },
  {
   "cell_type": "code",
   "execution_count": 7,
   "metadata": {},
   "outputs": [
    {
     "data": {
      "image/png": "[encoded data removed]",
      "text/plain": [
       "<Figure size 432x288 with 1 Axes>"
      ]
     },
     "metadata": {
      "needs_background": "light"
     },
     "output_type": "display_data"
    }
   ],
   "source": [
    "axes = final_df.boxplot(column=['hours'], by='day_of_week')\n",
    "plt.title(\"Boxplot of estimated first customer of the day\")\n",
    "plt.suptitle('')\n",
    "plt.xlabel(\"Day of the week\")\n",
    "plt.ylabel(\"Time\")\n",
    "plt.xticks(rotation=45)\n",
    "plt.ylim(0,24.5)\n",
    "plt.show()"
   ]
  },
  {
   "cell_type": "markdown",
   "metadata": {},
   "source": [
    "## Solution Frequentiste - Moins optimal pour ce problème\n",
    "\n",
    "On sait qu'il y a des valeurs assez extrême vu le box plot, donc une solution fréquentiste est de prendre la médiane de chaque jour, pour chaque magasin. J'ajoute aussi la moyenne pour démontrer que c'est une statistique qui n'est pas fiable à cause des valeurs extrêmes. Malheureusement, je ne trouve pas que cette solution est idéale car on n'a pas beaucoup de données et on peut finir par avoir des résultats biaisés."
   ]
  },
  {
   "cell_type": "code",
   "execution_count": 8,
   "metadata": {},
   "outputs": [
    {
     "name": "stdout",
     "output_type": "stream",
     "text": [
      "shopping_center_id                    day_of_week\n",
      "0cd35523-1eca-4f09-ab0d-0b506ae9d986  Monday          5.337963\n",
      "                                      Tuesday         4.911574\n",
      "                                      Wednesday       5.025417\n",
      "                                      Thursday        3.521528\n",
      "                                      Friday          5.010833\n",
      "                                      Saturday        5.017778\n",
      "                                      Sunday         12.927963\n",
      "599cb959-11ef-49aa-9eb3-e6c17b4ea6ba  Monday          4.222593\n",
      "                                      Tuesday        11.861574\n",
      "                                      Wednesday       6.532917\n",
      "                                      Thursday        3.819167\n",
      "                                      Friday          3.487500\n",
      "                                      Saturday        5.337778\n",
      "                                      Sunday          9.924722\n",
      "b43e9e4f-acd1-4941-874d-e0c5650ab91e  Monday          3.813519\n",
      "                                      Tuesday         4.715370\n",
      "                                      Wednesday       4.061111\n",
      "                                      Thursday        4.150833\n",
      "                                      Friday          5.978750\n",
      "                                      Saturday        3.282639\n",
      "                                      Sunday         11.746759\n",
      "cb2d5bb6-c372-4a51-8231-4ffa288a0c28  Monday          6.663704\n",
      "                                      Tuesday         5.340741\n",
      "                                      Wednesday       6.131944\n",
      "                                      Thursday        5.266667\n",
      "                                      Friday          6.261111\n",
      "                                      Saturday        6.952083\n",
      "                                      Sunday          7.694352\n",
      "Name: hours, dtype: float64\n",
      "shopping_center_id                    day_of_week\n",
      "0cd35523-1eca-4f09-ab0d-0b506ae9d986  Monday         4.930278\n",
      "                                      Tuesday        5.009722\n",
      "                                      Wednesday      5.025417\n",
      "                                      Thursday       3.521528\n",
      "                                      Friday         5.010833\n",
      "                                      Saturday       5.017778\n",
      "                                      Sunday         8.773056\n",
      "599cb959-11ef-49aa-9eb3-e6c17b4ea6ba  Monday         5.148611\n",
      "                                      Tuesday        6.128611\n",
      "                                      Wednesday      6.532917\n",
      "                                      Thursday       3.819167\n",
      "                                      Friday         3.487500\n",
      "                                      Saturday       5.337778\n",
      "                                      Sunday         9.494444\n",
      "b43e9e4f-acd1-4941-874d-e0c5650ab91e  Monday         3.933056\n",
      "                                      Tuesday        4.837500\n",
      "                                      Wednesday      4.061111\n",
      "                                      Thursday       4.150833\n",
      "                                      Friday         5.978750\n",
      "                                      Saturday       3.282639\n",
      "                                      Sunday         8.326667\n",
      "cb2d5bb6-c372-4a51-8231-4ffa288a0c28  Monday         6.873056\n",
      "                                      Tuesday        5.940556\n",
      "                                      Wednesday      6.131944\n",
      "                                      Thursday       5.266667\n",
      "                                      Friday         6.261111\n",
      "                                      Saturday       6.952083\n",
      "                                      Sunday         7.888889\n",
      "Name: hours, dtype: float64\n"
     ]
    }
   ],
   "source": [
    "print(final_df.groupby([\"shopping_center_id\", \"day_of_week\"])[\"hours\"].mean())\n",
    "print(final_df.groupby([\"shopping_center_id\", \"day_of_week\"])[\"hours\"].median())"
   ]
  },
  {
   "cell_type": "markdown",
   "metadata": {},
   "source": [
    "## Solution Bayesienne\n",
    "\n",
    "Comme on n'a pas beaucoup de données mais une bonne idée de l'heure dont les magasins ouvrent en France en général, on peut combiner nos connaissances (_a priori_) et nos données pour créer une distribution (_a posteriori_) pour notre valeur estimée.\n",
    "\n",
    "Je vais créer 2 _a priori_ une pour la semaine, et une pour le weekend. J'ai décidé d'utiliser le modèle Normal-Normal puisque c'est une solution simple et facile à interpréter."
   ]
  },
  {
   "cell_type": "markdown",
   "metadata": {},
   "source": [
    "### A Priori en semaine\n",
    "\n",
    "En semaine je m'attends a ce que les magasins ouvrent plus tot et je suis assez certain de ce fait donc je vais opter pour une moyenne de 6 heure du matin (0.25) et une variance minime (0.005)."
   ]
  },
  {
   "cell_type": "code",
   "execution_count": 9,
   "metadata": {},
   "outputs": [
    {
     "data": {
      "image/png": "[encoded data removed]",
      "text/plain": [
       "<Figure size 432x288 with 1 Axes>"
      ]
     },
     "metadata": {
      "needs_background": "light"
     },
     "output_type": "display_data"
    }
   ],
   "source": [
    "week_mu = 0.25\n",
    "week_variance = 0.005\n",
    "x = np.linspace(0, 1, 100)\n",
    "y1 = norm.pdf(x, week_mu, np.sqrt(week_variance))\n",
    "plt.plot(x,y1)\n",
    "plt.title(\"A Priori Distribution en semaine\")\n",
    "plt.xlabel(\"Temps Normalisé\")\n",
    "plt.show()"
   ]
  },
  {
   "cell_type": "markdown",
   "metadata": {},
   "source": [
    "### A Priori en weekend\n",
    "\n",
    "En weekend je m'attends a ce que les magasins ouvrent plus tard et je suis assez certain de ce fait donc je vais opter pour une moyenne de 8 heure du matin (0.33) et une variance minime (0.005)."
   ]
  },
  {
   "cell_type": "code",
   "execution_count": 10,
   "metadata": {},
   "outputs": [
    {
     "data": {
      "image/png": "[encoded data removed]",
      "text/plain": [
       "<Figure size 432x288 with 1 Axes>"
      ]
     },
     "metadata": {
      "needs_background": "light"
     },
     "output_type": "display_data"
    }
   ],
   "source": [
    "weekend_mu = 0.33\n",
    "weekend_variance = 0.005\n",
    "x = np.linspace(0, 1, 1000)\n",
    "y1 = norm.pdf(x, weekend_mu, np.sqrt(weekend_variance))\n",
    "plt.plot(x,y1)\n",
    "plt.title(\"A Priori Distribution en weekend\")\n",
    "plt.xlabel(\"Temps Normalisé\")\n",
    "plt.show()"
   ]
  },
  {
   "cell_type": "markdown",
   "metadata": {},
   "source": [
    "### Données\n",
    "\n",
    "J'utilise les données pour mettre a jour la moyenne et la variance, et je cree une fonction pour simplifier le code"
   ]
  },
  {
   "cell_type": "code",
   "execution_count": 11,
   "metadata": {},
   "outputs": [],
   "source": [
    "week_stores = final_df[~ final_df[\"day_of_week\"].isin([\"Saturday\", \"Sunday\"])]\n",
    "weekend_stores = final_df[final_df[\"day_of_week\"].isin([\"Saturday\", \"Sunday\"])]"
   ]
  },
  {
   "cell_type": "code",
   "execution_count": 12,
   "metadata": {},
   "outputs": [],
   "source": [
    "def update_parmeters(df, priori_mu, priori_variance):\n",
    "    n = df.shape[0]\n",
    "    observations = df[\"scaled_time\"]\n",
    "    observed_variance = np.var(observations)\n",
    "    mu_updated = ((priori_mu/priori_variance) + (np.sum(observations)/observed_variance))/((1/priori_variance)+(n/observed_variance))\n",
    "    variance_updated = 1/((1/priori_variance) + (n/observed_variance))\n",
    "    return mu_updated, variance_updated"
   ]
  },
  {
   "cell_type": "markdown",
   "metadata": {},
   "source": [
    "### A Posteriori en semaine"
   ]
  },
  {
   "cell_type": "code",
   "execution_count": 13,
   "metadata": {},
   "outputs": [
    {
     "data": {
      "image/png": "[encoded data removed]",
      "text/plain": [
       "<Figure size 432x288 with 1 Axes>"
      ]
     },
     "metadata": {
      "needs_background": "light"
     },
     "output_type": "display_data"
    },
    {
     "name": "stdout",
     "output_type": "stream",
     "text": [
      "Posterior Mu: 0.22644286487805804\n",
      "Posterior Variance: 0.00030541696566534655\n"
     ]
    }
   ],
   "source": [
    "mu_updated, variance_updated = update_parmeters(week_stores, week_mu, week_variance)\n",
    "\n",
    "y1 = norm.pdf(x, mu_updated, np.sqrt(variance_updated))\n",
    "plt.plot(x,y1)\n",
    "plt.show()\n",
    "\n",
    "print(f\"Posterior Mu: {mu_updated}\")\n",
    "print(f\"Posterior Variance: {variance_updated}\")"
   ]
  },
  {
   "cell_type": "markdown",
   "metadata": {},
   "source": [
    "### A Posteriori en weekend"
   ]
  },
  {
   "cell_type": "code",
   "execution_count": 14,
   "metadata": {},
   "outputs": [
    {
     "data": {
      "image/png": "[encoded data removed]",
      "text/plain": [
       "<Figure size 432x288 with 1 Axes>"
      ]
     },
     "metadata": {
      "needs_background": "light"
     },
     "output_type": "display_data"
    },
    {
     "name": "stdout",
     "output_type": "stream",
     "text": [
      "Posterior Mu: 0.34360048195704984\n",
      "Posterior Variance: 0.0016216782879880948\n"
     ]
    }
   ],
   "source": [
    "mu_updated, variance_updated = update_parmeters(weekend_stores, weekend_mu, weekend_variance)\n",
    "\n",
    "y1 = norm.pdf(x, mu_updated, np.sqrt(variance_updated))\n",
    "plt.plot(x,y1)\n",
    "plt.show()\n",
    "\n",
    "print(f\"Posterior Mu: {mu_updated}\")\n",
    "print(f\"Posterior Variance: {variance_updated}\")"
   ]
  },
  {
   "cell_type": "markdown",
   "metadata": {},
   "source": [
    "### Algorithme final\n",
    "\n",
    "`bayesian_estimate` estime l'heure du 1er arrivant\n",
    "\n",
    "`estimate_to_opening` transforme le résultat précédent à l'heure d'ouverture logique (les magasins n'ouvrent que à XX:30 ou XX:00)\n",
    "\n",
    "`data_to_opening` combine les deux fonctions précédentes pour donner l'algorithme final"
   ]
  },
  {
   "cell_type": "code",
   "execution_count": 15,
   "metadata": {},
   "outputs": [],
   "source": [
    "def bayesian_estimate(df, is_weekend, verbose):\n",
    "    prior_mu = 0.33 if is_weekend else 0.25\n",
    "    prior_variance = 0.005\n",
    "    \n",
    "    if is_weekend:\n",
    "        filtered_df = df[df[\"day_of_week\"].isin([\"Saturday\", \"Sunday\"])]\n",
    "    else:\n",
    "        filtered_df = df[~ df[\"day_of_week\"].isin([\"Saturday\", \"Sunday\"])]\n",
    "\n",
    "    # Show plots if verbose\n",
    "    if verbose:\n",
    "        x = np.linspace(0, 1, 1000)\n",
    "        y1 = norm.pdf(x, prior_mu, np.sqrt(prior_variance))\n",
    "        plt.plot(x,y1)\n",
    "        plt.xlabel(\"Temps Normalisé\")\n",
    "        print(f\"Prior Mu: {prior_mu}\")\n",
    "        print(f\"Prior Variance: {prior_variance}\")\n",
    "    mu_updated, variance_updated = update_parmeters(filtered_df, prior_mu, prior_variance)\n",
    "    \n",
    "    if verbose:\n",
    "        y1 = norm.pdf(x, mu_updated, np.sqrt(variance_updated))\n",
    "        plt.plot(x,y1)\n",
    "        plt.legend([\"Prior\", \"Posterior\"])\n",
    "        plt.xlim(0,1)\n",
    "        plt.title(\"A Priori and A Posteriori Distribution\")\n",
    "        plt.show()\n",
    "        print(f\"Posterior Mu: {mu_updated}\")\n",
    "        print(f\"Posterior Variance: {variance_updated}\")\n",
    "    return mu_updated, variance_updated\n",
    "\n",
    "def estimate_to_opening(mu, verbose=True):\n",
    "    hour = int(np.floor(mu*24))\n",
    "    minutes = ((mu*24) % 1)*60\n",
    "    minutes_floor = \"30\" if minutes > 30 else \"00\"\n",
    "    opening_time = f\"{hour}:{minutes_floor}\"\n",
    "    if verbose:\n",
    "        print(f\"Heure d'ouverture du magasin: {opening_time}\")\n",
    "    return opening_time\n",
    "\n",
    "def data_to_opening(df):\n",
    "    week_mu, _ = bayesian_estimate(df, False, False)\n",
    "    weekend_mu, _ = bayesian_estimate(df, True, False)\n",
    "    return estimate_to_opening(week_mu, False), estimate_to_opening(weekend_mu, False)"
   ]
  },
  {
   "cell_type": "markdown",
   "metadata": {},
   "source": [
    "#### Example de la fonction sur un magasin"
   ]
  },
  {
   "cell_type": "code",
   "execution_count": 16,
   "metadata": {},
   "outputs": [
    {
     "name": "stdout",
     "output_type": "stream",
     "text": [
      "Prior Mu: 0.25\n",
      "Prior Variance: 0.005\n"
     ]
    },
    {
     "data": {
      "image/png": "[encoded data removed]",
      "text/plain": [
       "<Figure size 432x288 with 1 Axes>"
      ]
     },
     "metadata": {
      "needs_background": "light"
     },
     "output_type": "display_data"
    },
    {
     "name": "stdout",
     "output_type": "stream",
     "text": [
      "Posterior Mu: 0.20248157446881865\n",
      "Posterior Variance: 0.00015935628615920447\n",
      "Heure d'ouverture du magasin: 4:30\n"
     ]
    }
   ],
   "source": [
    "final_mu,_ = bayesian_estimate(final_df[final_df[\"shopping_center_id\"]==\"0cd35523-1eca-4f09-ab0d-0b506ae9d986\"], False, True)\n",
    "opening_time = estimate_to_opening(final_mu)"
   ]
  },
  {
   "cell_type": "markdown",
   "metadata": {},
   "source": [
    "### Resultats\n",
    "\n",
    "La première valeur est l'ouverture approximée en semaine, et la deuxième en weekend."
   ]
  },
  {
   "cell_type": "code",
   "execution_count": 17,
   "metadata": {},
   "outputs": [
    {
     "data": {
      "text/plain": [
       "shopping_center_id\n",
       "0cd35523-1eca-4f09-ab0d-0b506ae9d986    (4:30, 8:00)\n",
       "599cb959-11ef-49aa-9eb3-e6c17b4ea6ba    (6:00, 8:00)\n",
       "b43e9e4f-acd1-4941-874d-e0c5650ab91e    (4:30, 8:00)\n",
       "cb2d5bb6-c372-4a51-8231-4ffa288a0c28    (5:30, 7:00)\n",
       "dtype: object"
      ]
     },
     "execution_count": 17,
     "metadata": {},
     "output_type": "execute_result"
    }
   ],
   "source": [
    "final_df.groupby(\"shopping_center_id\").apply(data_to_opening)"
   ]
  },
  {
   "cell_type": "markdown",
   "metadata": {},
   "source": [
    "## Comment ameliorer l'algorithme\n",
    "\n",
    "Il y a plusieurs manières d'améliorer nos predictions\n",
    "\n",
    "- Récolter plus de données pour mieux mettre à jour notre _a priori_\n",
    "- Avoir plus d'informations sur les magasins, pour créer des _a priori_ plus rigide\n",
    "- Utiliser un modèle plus logique que Normal-Normal car les valeurs ne peuvent pas réelement sortir de l'intervalle $[0,1)$ mais le modèle que j'utilise a un intervalle de $(-\\infty , \\infty )$"
   ]
  }
 ],
 "metadata": {
  "kernelspec": {
   "display_name": "Python 3 (ipykernel)",
   "language": "python",
   "name": "python3"
  },
  "language_info": {
   "codemirror_mode": {
    "name": "ipython",
    "version": 3
   },
   "file_extension": ".py",
   "mimetype": "text/x-python",
   "name": "python",
   "nbconvert_exporter": "python",
   "pygments_lexer": "ipython3",
   "version": "3.10.2"
  }
 },
 "nbformat": 4,
 "nbformat_minor": 4
}
